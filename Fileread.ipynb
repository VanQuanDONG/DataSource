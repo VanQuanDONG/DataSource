{
 "cells": [
  {
   "cell_type": "code",
   "execution_count": 64,
   "id": "17f0aecf-35c2-491e-b2cf-29f181a7a455",
   "metadata": {
    "tags": []
   },
   "outputs": [
    {
     "name": "stdout",
     "output_type": "stream",
     "text": [
      "['ID\\thomeaddress\\tuni\\n', '1\\tashleya\\tMac\\n', '2\\tcowper\\tUNSW']\n",
      "\\t\n",
      "\\n\n",
      "Header: ID\thomeaddress\tuni\n",
      "\n"
     ]
    }
   ],
   "source": [
    "import re\n",
    "file = open(\"customer.txt.txt\",\"r\");\n",
    "file = file.readlines();\n",
    "import csv\n",
    "\n",
    "def find_delimiter(filename):\n",
    "    sniffer = csv.Sniffer()\n",
    "    with open(filename) as fp:\n",
    "        delimiter = sniffer.sniff(fp.read(5000)).delimiter\n",
    "    if \"\\t\" in delimiter:\n",
    "        delimiter = \"\\\\t\"\n",
    "    return delimiter\n",
    "\n",
    "def detect_row_separator(file):\n",
    "    possible_separators = [\"\\n\", \"\\r\\n\"]\n",
    "    for text in file:\n",
    "        if \"\\r\\n\" in text:\n",
    "            print()\n",
    "            return \"\\\\r\\\\n\"\n",
    "        else: \n",
    "            return \"\\\\n\"\n",
    "print(file)\n",
    "\n",
    "delimiter = find_delimiter(\"customer.txt.txt\")\n",
    "print(delimiter)\n",
    "row_separator = detect_row_separator(file)\n",
    "print(row_separator)\n",
    "head =  open(\"customer.txt.txt\",\"r\")\n",
    "\n",
    "Line_1 = \"Header: \" +head.readlines()[0].replace(delimiter, \",\")\n",
    "print(Line_1)\n",
    "Line_2 = \"Delimiter used in the text: \" +  str(delimiter)\n",
    "\n",
    "Line_3 = \"Row separator used in the text: \" + row_separator\n",
    "\n",
    "Line_4 = \"Number of records: \" + str(len(file)-1)\n",
    "\n",
    "lines = [Line_1, Line_2, Line_3, Line_4]\n",
    "\n",
    "with open(\"Detect_delimiter.txt\", \"w\") as f:\n",
    "    for line in lines:\n",
    "        f.write(line + \"\\n\")"
   ]
  },
  {
   "cell_type": "code",
   "execution_count": null,
   "id": "819cce72-e144-4f0c-819a-537b3133b42c",
   "metadata": {},
   "outputs": [],
   "source": []
  }
 ],
 "metadata": {
  "kernelspec": {
   "display_name": "Python 3 (ipykernel)",
   "language": "python",
   "name": "python3"
  },
  "language_info": {
   "codemirror_mode": {
    "name": "ipython",
    "version": 3
   },
   "file_extension": ".py",
   "mimetype": "text/x-python",
   "name": "python",
   "nbconvert_exporter": "python",
   "pygments_lexer": "ipython3",
   "version": "3.9.12"
  }
 },
 "nbformat": 4,
 "nbformat_minor": 5
}
